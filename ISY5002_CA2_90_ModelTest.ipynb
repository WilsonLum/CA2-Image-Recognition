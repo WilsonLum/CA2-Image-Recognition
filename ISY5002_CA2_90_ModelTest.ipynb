{
 "cells": [
  {
   "cell_type": "code",
   "execution_count": 1,
   "metadata": {},
   "outputs": [],
   "source": [
    "import os \n",
    "os.environ[\"CUDA_VISIBLE_DEVICES\"]=\"0\";"
   ]
  },
  {
   "cell_type": "code",
   "execution_count": 2,
   "metadata": {
    "colab": {
     "base_uri": "https://localhost:8080/",
     "height": 322
    },
    "colab_type": "code",
    "executionInfo": {
     "elapsed": 303125,
     "status": "ok",
     "timestamp": 1569398384897,
     "user": {
      "displayName": "kk L",
      "photoUrl": "",
      "userId": "01076384788128853861"
     },
     "user_tz": -480
    },
    "id": "pEXSPlUxZaV4",
    "outputId": "e96af3a3-b9b9-4a1c-8557-356e8033e30a"
   },
   "outputs": [
    {
     "name": "stdout",
     "output_type": "stream",
     "text": [
      "WARNING:tensorflow:From C:\\Users\\Wilson\\Data_Analytics\\Master in IS Course\\Master in IS Course\\Pattern Recognition System\\Pattern Recognition CA2\\Wilson\\ISY5002_CA2_02_ModelDefinitions.py:156: The name tf.keras.initializers.he_normal is deprecated. Please use tf.compat.v1.keras.initializers.he_normal instead.\n",
      "\n",
      "WARNING:tensorflow:From C:\\ProgramData\\Anaconda3\\lib\\site-packages\\tensorflow\\python\\ops\\init_ops.py:1251: calling VarianceScaling.__init__ (from tensorflow.python.ops.init_ops) with dtype is deprecated and will be removed in a future version.\n",
      "Instructions for updating:\n",
      "Call initializer instance with the dtype argument instead of passing it to the constructor\n",
      "Found 780 images belonging to 3 classes.\n",
      "Best accuracy (on testing dataset): 96.92%\n",
      "              precision    recall  f1-score   support\n",
      "\n",
      "        bees     0.9771    0.9846    0.9808       260\n",
      " butterflies     0.9727    0.9577    0.9651       260\n",
      "       moths     0.9580    0.9654    0.9617       260\n",
      "\n",
      "    accuracy                         0.9692       780\n",
      "   macro avg     0.9693    0.9692    0.9692       780\n",
      "weighted avg     0.9693    0.9692    0.9692       780\n",
      "\n",
      "[[256   2   2]\n",
      " [  2 249   9]\n",
      " [  4   5 251]]\n"
     ]
    }
   ],
   "source": [
    "#######################################################\n",
    "# Model Test on TestSet\n",
    "# 11/09/2019 \n",
    "#\n",
    "#######################################################\n",
    "import numpy as np\n",
    "import sklearn.metrics as metrics\n",
    "import matplotlib.pyplot as plt\n",
    "import os\n",
    "import cv2\n",
    "from math import floor\n",
    "import pandas as pd\n",
    "\n",
    "from tensorflow.keras.preprocessing.image import ImageDataGenerator\n",
    "\n",
    "from ISY5002_CA2_02_ModelDefinitions import createModel, my_preprocess\n",
    "from tensorflow.keras.applications import VGG16\n",
    "from tensorflow.keras.applications.vgg16 import preprocess_input as VGG16_preprocess_input\n",
    "from tensorflow.keras.applications.resnet50 import preprocess_input as ResNet50_preprocess_input\n",
    "from tensorflow.keras.applications.inception_v3 import preprocess_input as InceptionV3_preprocess_input\n",
    "\n",
    "# import sys\n",
    "\n",
    "# defining global variables\n",
    "DEBUG_MODE = False\n",
    "optmz       = 'adam'    # optimizers.RMSprop(lr=0.0001)\n",
    "\n",
    "def getAccuracyOnTestdata(index, size):\n",
    "\n",
    "    modelGo = createModel(size,size,3, index)\n",
    "    modelGo.load_weights('./CA2_' + str(index)+ \"_\" + str(size) + \".hdf5\")\n",
    "    modelGo.compile(loss='categorical_crossentropy', \n",
    "                optimizer=optmz, \n",
    "                metrics=['accuracy'])\n",
    "\n",
    "    preprocessing_fn = my_preprocess\n",
    "    if (index > 90):\n",
    "        # Using pretrained datasets - have to use their preprocess functions\n",
    "        if (index == 90):\n",
    "            preprocessing_fn = VGG16_preprocess_input\n",
    "        elif (index == 91):\n",
    "            preprocessing_fn = ResNet50_preprocess_input\n",
    "        elif (index == 92):\n",
    "            preprocessing_fn = InceptionV3_preprocess_input\n",
    "    #     datagen = ImageDataGenerator(preprocessing_function = preprocessing_fn)\n",
    "    # else:\n",
    "    #     datagen = ImageDataGenerator(rescale=1.0/255)\n",
    "    datagen = ImageDataGenerator(preprocessing_function = preprocessing_fn)\n",
    "\n",
    "    test_it = datagen.flow_from_directory('./Resized/test/', class_mode='categorical', target_size=(size, size), batch_size=32, color_mode='rgb', shuffle = False)\n",
    "    predicts = modelGo.predict_generator(test_it)\n",
    "    labelname = list(test_it.class_indices.keys())\n",
    "    predout = np.argmax(predicts, axis = 1)\n",
    "\n",
    "    testScores = metrics.accuracy_score(test_it.labels, predout)\n",
    "    confusion = metrics.confusion_matrix(test_it.labels, predout)\n",
    "\n",
    "    print(\"Best accuracy (on testing dataset): %.2f%%\" % (testScores*100)) \n",
    "    print(metrics.classification_report(test_it.labels, predout, target_names=labelname, digits=4 )) \n",
    "    print(confusion)    \n",
    "\n",
    "def main():\n",
    "    # --------------------------\n",
    "    # ------ CHANGE THESE ------\n",
    "    # get accuracy for XX\n",
    "    getAccuracyOnTestdata(90, 224)\n",
    "    # --------------------------\n",
    "    \n",
    "main()"
   ]
  },
  {
   "cell_type": "code",
   "execution_count": null,
   "metadata": {},
   "outputs": [],
   "source": []
  }
 ],
 "metadata": {
  "colab": {
   "name": "ISY5002_CA2_04_ModelTest.ipynb",
   "provenance": []
  },
  "kernelspec": {
   "display_name": "Python 3",
   "language": "python",
   "name": "python3"
  },
  "language_info": {
   "codemirror_mode": {
    "name": "ipython",
    "version": 3
   },
   "file_extension": ".py",
   "mimetype": "text/x-python",
   "name": "python",
   "nbconvert_exporter": "python",
   "pygments_lexer": "ipython3",
   "version": "3.7.6"
  }
 },
 "nbformat": 4,
 "nbformat_minor": 1
}
